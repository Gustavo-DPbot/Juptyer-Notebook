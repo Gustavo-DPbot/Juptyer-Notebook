{
 "cells": [
  {
   "cell_type": "markdown",
   "id": "dfb846f7-f8ce-4cd6-9ad7-a6e28d9300d3",
   "metadata": {},
   "source": [
    "Create markdown cell with title of the notebook\n",
    "# Data Science Tools and Ecosystem"
   ]
  },
  {
   "cell_type": "markdown",
   "id": "2d07a35e-da41-4be5-9422-f8a6a55b9831",
   "metadata": {},
   "source": [
    "Create markdown cell with title of the notebook\n",
    "# **In this notebook, Data Science Tools and Ecosystem are summarized.**"
   ]
  },
  {
   "cell_type": "markdown",
   "id": "2c727042-6646-42e3-8bae-7608c8c99f5b",
   "metadata": {},
   "source": [
    "Create a markdown cell to list data science languages\n",
    "\n",
    "# Some of the popular languages that Data Scientists use are:\n",
    "1. Python\n",
    "2. Java\n",
    "3. R\n",
    "4. C++"
   ]
  },
  {
   "cell_type": "markdown",
   "id": "f5fb75c4-1ffa-4796-9728-447acd108306",
   "metadata": {},
   "source": [
    "Create a markdown cell to list data science libraries\n",
    "# Some of the commonly used libraries used by Data Scientists include:\n",
    "1. Matplotlib\n",
    "2. Numpy\n",
    "3. Pandas\n",
    "4. Tensorflow"
   ]
  },
  {
   "cell_type": "markdown",
   "id": "7dd9cf16-e393-4f68-a1d4-8a43d5ed0faf",
   "metadata": {},
   "source": [
    "Create a markdown cell with a table of Data Science tools\n",
    "# Table of Data Science tools\n",
    "|Sl. No| Data Science Tools |\n",
    "|------| -------------------|\n",
    "|1 | Jupyter Notebook        |\n",
    "|2 | R Studio           |\n",
    "|3| Visual Studio Code |\n",
    "|4| Google colaboratory |\n"
   ]
  },
  {
   "cell_type": "markdown",
   "id": "c885f823-8972-4ead-b8cb-065fed870cfc",
   "metadata": {},
   "source": [
    "Create a markdown cell introducing arithmetic expression examples\n",
    "### Below are a few examples of evaluating arithmetic expressions in Python.\n"
   ]
  },
  {
   "cell_type": "code",
   "execution_count": 7,
   "id": "e3c9ae66-f3cc-4945-a5d5-4fc41e6488b2",
   "metadata": {},
   "outputs": [
    {
     "data": {
      "text/plain": [
       "17"
      ]
     },
     "execution_count": 7,
     "metadata": {},
     "output_type": "execute_result"
    }
   ],
   "source": [
    "# This a simple arithmetic expression to multiply then add integers\n",
    "(3*4)+5"
   ]
  },
  {
   "cell_type": "code",
   "execution_count": 9,
   "id": "8b250ee8-30f1-4414-ba7e-4a5594fa4702",
   "metadata": {},
   "outputs": [
    {
     "data": {
      "text/plain": [
       "3.3333333333333335"
      ]
     },
     "execution_count": 9,
     "metadata": {},
     "output_type": "execute_result"
    }
   ],
   "source": [
    "# This will convert 200 minutes to hours by diving by 60\n",
    "200/60"
   ]
  },
  {
   "cell_type": "markdown",
   "id": "04a9935e-61e3-44b8-8818-51dde7b0bbde",
   "metadata": {},
   "source": [
    "Insert a markdown cell to list Objectives (List popular languages for Data Science)\n",
    "\n",
    "# **Objectives**\n",
    "- Python\n",
    "- Java\n",
    "- R\n",
    "- C++"
   ]
  },
  {
   "cell_type": "markdown",
   "id": "a2e3be9b-ace6-4b96-9003-932fe6ce86fe",
   "metadata": {},
   "source": [
    "Create a markdown cell to indicate the Author's name\n",
    "\n",
    "## Author Name\n",
    "Darshak D  Poojary"
   ]
  }
 ],
 "metadata": {
  "kernelspec": {
   "display_name": "Python 3 (ipykernel)",
   "language": "python",
   "name": "python3"
  },
  "language_info": {
   "codemirror_mode": {
    "name": "ipython",
    "version": 3
   },
   "file_extension": ".py",
   "mimetype": "text/x-python",
   "name": "python",
   "nbconvert_exporter": "python",
   "pygments_lexer": "ipython3",
   "version": "3.12.8"
  }
 },
 "nbformat": 4,
 "nbformat_minor": 5
}
