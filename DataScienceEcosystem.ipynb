{
 "cells": [
  {
   "cell_type": "markdown",
   "id": "a2f9efa2-eadf-4a6e-9e76-daf06c02ee44",
   "metadata": {},
   "source": [
    "Hello Python!"
   ]
  },
  {
   "cell_type": "markdown",
   "id": "80c561a8-464e-4031-9e94-991f9e8bfdb6",
   "metadata": {},
   "source": [
    "# H1 : Data Science Tools and Ecosystem\n"
   ]
  },
  {
   "cell_type": "markdown",
   "id": "0e2a8f8e-031a-4a66-8866-5095fa6c725a",
   "metadata": {},
   "source": [
    "# H1: Data Science Tools and Ecosystem\n",
    "## H2: Data Science Tools and Ecosystem\n",
    "### H3: Data Science Tools and Ecosystem\n",
    "#### H4: Data Science Tools and Ecosystem\n",
    "##### H5: Data Science Tools and Ecosystem"
   ]
  },
  {
   "cell_type": "markdown",
   "id": "ad9795f6-ef24-4426-a564-7099e956fcd8",
   "metadata": {},
   "source": [
    "**IN THIS NOTEBOOK, DATA SCIENCE TOOLS AND ECOSYSTEM ARE SUMMARIZED.**"
   ]
  },
  {
   "cell_type": "markdown",
   "id": "5c0a6e01-53a6-4a84-a253-6887b50e7d58",
   "metadata": {},
   "source": [
    "# **Some of the popular languages that Data Scientists use are:**\n",
    "1. Python\n",
    "2. Java\n",
    "3. R\n",
    "4. C++"
   ]
  },
  {
   "cell_type": "markdown",
   "id": "a0294c23-3db1-43ff-8d06-3c69d4edaf16",
   "metadata": {},
   "source": [
    "# **Some of the commonly used libraries used by Data Scientists include:**\n",
    "1. Matplotlib\n",
    "2. Numpy\n",
    "3. Pandas\n",
    "4. Tensorflow"
   ]
  },
  {
   "cell_type": "markdown",
   "id": "348825b0-6bba-43eb-99b6-8fb13740642b",
   "metadata": {},
   "source": [
    "# Table of Data Science tools\n",
    "|Sl. No| Data Science Tools |\n",
    "|------| -------------------|\n",
    "|1 | Jupyter Notebook        |\n",
    "|2 | R Studio           |\n",
    "|3| Visual Studio Code |\n",
    "|4| Google colaboratory |\n"
   ]
  },
  {
   "cell_type": "markdown",
   "id": "52a255aa-6b8d-436a-b139-a15702814d8b",
   "metadata": {},
   "source": [
    "### Below are a few examples of evaluating arithmetic expressions in Python.\n"
   ]
  },
  {
   "cell_type": "markdown",
   "id": "7211bfc9-3187-4d51-aae1-cf2a8a049985",
   "metadata": {},
   "source": [
    "# This a simple arithmetic expression to mutiply then add integers\n"
   ]
  },
  {
   "cell_type": "code",
   "execution_count": 3,
   "id": "4919533f-fba4-4114-b061-75c866e593c4",
   "metadata": {},
   "outputs": [
    {
     "data": {
      "text/plain": [
       "17"
      ]
     },
     "execution_count": 3,
     "metadata": {},
     "output_type": "execute_result"
    }
   ],
   "source": [
    "(3*4)+5"
   ]
  },
  {
   "cell_type": "markdown",
   "id": "4b0dbbc9-75cb-41d0-8353-86f7d62f8c61",
   "metadata": {},
   "source": [
    "# This will convert 200 minutes to hours by diving by 60"
   ]
  },
  {
   "cell_type": "code",
   "execution_count": 6,
   "id": "fed5f311-d279-4962-ad7e-0c481443d646",
   "metadata": {},
   "outputs": [
    {
     "data": {
      "text/plain": [
       "3.3333333333333335"
      ]
     },
     "execution_count": 6,
     "metadata": {},
     "output_type": "execute_result"
    }
   ],
   "source": [
    "200/60"
   ]
  },
  {
   "cell_type": "markdown",
   "id": "f96d4ec2-48fe-43f1-942c-42e6851a3eef",
   "metadata": {},
   "source": [
    "# **Objectives:**\n",
    "- Python\n",
    "- Java\n",
    "- R\n",
    "- C++"
   ]
  },
  {
   "cell_type": "markdown",
   "id": "f8b96d56-49d6-4203-8855-ed52f04089ba",
   "metadata": {},
   "source": [
    "## Author\n",
    "Darshak D Poojary"
   ]
  },
  {
   "cell_type": "code",
   "execution_count": null,
   "id": "5bf6868c-9504-4c40-b4d9-75fa9f795310",
   "metadata": {},
   "outputs": [],
   "source": []
  }
 ],
 "metadata": {
  "kernelspec": {
   "display_name": "Python 3 (ipykernel)",
   "language": "python",
   "name": "python3"
  },
  "language_info": {
   "codemirror_mode": {
    "name": "ipython",
    "version": 3
   },
   "file_extension": ".py",
   "mimetype": "text/x-python",
   "name": "python",
   "nbconvert_exporter": "python",
   "pygments_lexer": "ipython3",
   "version": "3.12.9"
  }
 },
 "nbformat": 4,
 "nbformat_minor": 5
}
